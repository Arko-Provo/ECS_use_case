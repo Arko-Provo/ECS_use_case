{
  "nbformat": 4,
  "nbformat_minor": 0,
  "metadata": {
    "colab": {
      "name": "Untitled5.ipynb",
      "provenance": [],
      "collapsed_sections": [],
      "authorship_tag": "ABX9TyPiORuqHJmJulmiJuoW9vpA",
      "include_colab_link": true
    },
    "kernelspec": {
      "name": "python3",
      "display_name": "Python 3"
    },
    "language_info": {
      "name": "python"
    }
  },
  "cells": [
    {
      "cell_type": "markdown",
      "metadata": {
        "id": "view-in-github",
        "colab_type": "text"
      },
      "source": [
        "<a href=\"https://colab.research.google.com/github/Arko-Provo/ECS_use_case/blob/main/Automation_solution.ipynb\" target=\"_parent\"><img src=\"https://colab.research.google.com/assets/colab-badge.svg\" alt=\"Open In Colab\"/></a>"
      ]
    },
    {
      "cell_type": "code",
      "metadata": {
        "colab": {
          "base_uri": "https://localhost:8080/"
        },
        "id": "ECqDwts8MizZ",
        "outputId": "f10eaa77-0af5-46b6-a72d-90724a3ce87c"
      },
      "source": [
        "#Mounting the drive\n",
        "from google.colab import drive\n",
        "drive.mount('/content/drive')"
      ],
      "execution_count": 1,
      "outputs": [
        {
          "output_type": "stream",
          "text": [
            "Mounted at /content/drive\n"
          ],
          "name": "stdout"
        }
      ]
    },
    {
      "cell_type": "code",
      "metadata": {
        "colab": {
          "base_uri": "https://localhost:8080/"
        },
        "id": "TnFM1Ac3MyJb",
        "outputId": "4bc58f95-5451-433f-f320-718ed6a23233"
      },
      "source": [
        "#cloned my github repository which contains the folders of the use case\n",
        "!git clone https://github.com/Arko-Provo/ECS_use_case.git"
      ],
      "execution_count": 113,
      "outputs": [
        {
          "output_type": "stream",
          "text": [
            "Cloning into 'ECS_use_case'...\n",
            "remote: Enumerating objects: 17, done.\u001b[K\n",
            "remote: Counting objects: 100% (17/17), done.\u001b[K\n",
            "remote: Compressing objects: 100% (10/10), done.\u001b[K\n",
            "remote: Total 17 (delta 2), reused 0 (delta 0), pack-reused 0\u001b[K\n",
            "Unpacking objects: 100% (17/17), done.\n"
          ],
          "name": "stdout"
        }
      ]
    },
    {
      "cell_type": "code",
      "metadata": {
        "colab": {
          "base_uri": "https://localhost:8080/"
        },
        "id": "Cii98g7yPARw",
        "outputId": "c4b99bfc-cac7-49aa-f83f-83f1b0f58966"
      },
      "source": [
        "!ls"
      ],
      "execution_count": 114,
      "outputs": [
        {
          "output_type": "stream",
          "text": [
            "drive  ECS_use_case\n"
          ],
          "name": "stdout"
        }
      ]
    },
    {
      "cell_type": "code",
      "metadata": {
        "colab": {
          "base_uri": "https://localhost:8080/"
        },
        "id": "qJDc76lCPDzR",
        "outputId": "0e9068a9-3ce7-4cbf-f768-2cbc4efc726e"
      },
      "source": [
        "!sh ECS_use_case/Shell_Folder/123.abc.sh   #It prints an echo statement of the shell file contains\n",
        "!cat ECS_use_case/Version/version.txt      # It prints the txt file of the version mentioned."
      ],
      "execution_count": 115,
      "outputs": [
        {
          "output_type": "stream",
          "text": [
            "Hello ECS!\n",
            "version number=110\n"
          ],
          "name": "stdout"
        }
      ]
    },
    {
      "cell_type": "code",
      "metadata": {
        "colab": {
          "base_uri": "https://localhost:8080/"
        },
        "id": "lROOyeSsR2FV",
        "outputId": "57d7dd18-e2a9-4998-bfcf-7a21af134eee"
      },
      "source": [
        "a=!ls ECS_use_case/Shell_Folder/*.sh | awk -F'/' '{print $3}' #picking up the shell file name using awk command to take the last part after '/' character and storing into var a.\n",
        "len(a[0])\n",
        "num=[]  #taking an empty list\n",
        "for number in a[0].split('.'):  #for each character I'm finding the digits present in list a[0] and appending it to num list\n",
        "  if number.isdigit():\n",
        "    num.append(int(number))\n",
        "print(num)"
      ],
      "execution_count": 116,
      "outputs": [
        {
          "output_type": "stream",
          "text": [
            "[123]\n"
          ],
          "name": "stdout"
        }
      ]
    },
    {
      "cell_type": "code",
      "metadata": {
        "colab": {
          "base_uri": "https://localhost:8080/"
        },
        "id": "DEl9DGbobERm",
        "outputId": "8214bf7c-c1e4-4a2e-d429-73c3e6738d52"
      },
      "source": [
        "print('shell file name contains nubers',num[0])\n",
        "b=!cat ECS_use_case/Version/version.txt | awk -F'=' '{print $2}'  #here again I have taking the string of version number value that is '110'\n",
        "print('version number=',b[0])"
      ],
      "execution_count": 117,
      "outputs": [
        {
          "output_type": "stream",
          "text": [
            "shell file name contains nubers 123\n",
            "version number= 110\n"
          ],
          "name": "stdout"
        }
      ]
    },
    {
      "cell_type": "code",
      "metadata": {
        "colab": {
          "base_uri": "https://localhost:8080/"
        },
        "id": "1WGa-33Ra3Fm",
        "outputId": "b8c06997-f991-4f45-a62a-1b78381ebf63"
      },
      "source": [
        "version_num=int(b[0])\n",
        "shell_num=int(num[0])\n",
        "if num[0]>int(b[0]):  #if the shell number that I obtained is 123 which is greater than version number that is 110, then executing the below shell lines\n",
        "  !sh ECS_use_case/Shell_Folder/123.abc.sh #execting the 123.abc.sh script\n",
        "  !sed -i 's/$version_num/$shell_num/' ECS_use_case/Version/version.txt  #using sed I'm replacing the version number(110) with shell number(123) in the version.txt file.\n",
        "  !cat ECS_use_case/Version/version.txt  #here we can see that the version number has been replaced.\n",
        "else:\n",
        "  exit()  "
      ],
      "execution_count": 118,
      "outputs": [
        {
          "output_type": "stream",
          "text": [
            "Hello ECS!\n",
            "version number=123\n"
          ],
          "name": "stdout"
        }
      ]
    }
  ]
}